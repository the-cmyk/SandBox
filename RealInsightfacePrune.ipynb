{
  "nbformat": 4,
  "nbformat_minor": 0,
  "metadata": {
    "colab": {
      "name": "RealInsightfacePrune.ipynb",
      "provenance": [],
      "collapsed_sections": [],
      "authorship_tag": "ABX9TyMq699B7WXamqFuDs8Xi1KS",
      "include_colab_link": true
    },
    "kernelspec": {
      "name": "python3",
      "display_name": "Python 3"
    },
    "accelerator": "GPU"
  },
  "cells": [
    {
      "cell_type": "markdown",
      "metadata": {
        "id": "view-in-github",
        "colab_type": "text"
      },
      "source": [
        "<a href=\"https://colab.research.google.com/github/the-cmyk/SandBox/blob/master/RealInsightfacePrune.ipynb\" target=\"_parent\"><img src=\"https://colab.research.google.com/assets/colab-badge.svg\" alt=\"Open In Colab\"/></a>"
      ]
    },
    {
      "cell_type": "code",
      "metadata": {
        "colab": {
          "base_uri": "https://localhost:8080/"
        },
        "id": "0p5kIidU4whT",
        "outputId": "b65dd1ad-e072-4242-faee-2ed0a6f6b50f"
      },
      "source": [
        "pip install git+https://github.com/nizhib/pytorch-insightface"
      ],
      "execution_count": 35,
      "outputs": [
        {
          "output_type": "stream",
          "text": [
            "Collecting git+https://github.com/nizhib/pytorch-insightface\n",
            "  Cloning https://github.com/nizhib/pytorch-insightface to /tmp/pip-req-build-56yiddqr\n",
            "  Running command git clone -q https://github.com/nizhib/pytorch-insightface /tmp/pip-req-build-56yiddqr\n",
            "Requirement already satisfied (use --upgrade to upgrade): insightface==0.1.0+8596a0b from git+https://github.com/nizhib/pytorch-insightface in /usr/local/lib/python3.6/dist-packages\n",
            "Requirement already satisfied: torch>=0.4.1 in /usr/local/lib/python3.6/dist-packages (from insightface==0.1.0+8596a0b) (1.7.0+cu101)\n",
            "Requirement already satisfied: torchvision>=0.3.0 in /usr/local/lib/python3.6/dist-packages (from insightface==0.1.0+8596a0b) (0.8.1+cu101)\n",
            "Requirement already satisfied: dataclasses in /usr/local/lib/python3.6/dist-packages (from torch>=0.4.1->insightface==0.1.0+8596a0b) (0.8)\n",
            "Requirement already satisfied: numpy in /usr/local/lib/python3.6/dist-packages (from torch>=0.4.1->insightface==0.1.0+8596a0b) (1.18.5)\n",
            "Requirement already satisfied: typing-extensions in /usr/local/lib/python3.6/dist-packages (from torch>=0.4.1->insightface==0.1.0+8596a0b) (3.7.4.3)\n",
            "Requirement already satisfied: future in /usr/local/lib/python3.6/dist-packages (from torch>=0.4.1->insightface==0.1.0+8596a0b) (0.16.0)\n",
            "Requirement already satisfied: pillow>=4.1.1 in /usr/local/lib/python3.6/dist-packages (from torchvision>=0.3.0->insightface==0.1.0+8596a0b) (7.0.0)\n",
            "Building wheels for collected packages: insightface\n",
            "  Building wheel for insightface (setup.py) ... \u001b[?25l\u001b[?25hdone\n",
            "  Created wheel for insightface: filename=insightface-0.1.0+8596a0b-cp36-none-any.whl size=4271 sha256=f48084c6a2833edd53aa143782062814559c24f896c560ac822a67ee8d7a8bb6\n",
            "  Stored in directory: /tmp/pip-ephem-wheel-cache-sfqxrvl7/wheels/10/e7/5a/648c05950e72cdf4d184d44d74e6a94297aa5f9b529f05ad06\n",
            "Successfully built insightface\n"
          ],
          "name": "stdout"
        }
      ]
    },
    {
      "cell_type": "code",
      "metadata": {
        "colab": {
          "base_uri": "https://localhost:8080/"
        },
        "id": "AA9ycHucUtH7",
        "outputId": "53ad7d67-6a96-4bfa-b778-3afed2fb4aed"
      },
      "source": [
        "!git clone https://github.com/nizhib/pytorch-insightface.git"
      ],
      "execution_count": 36,
      "outputs": [
        {
          "output_type": "stream",
          "text": [
            "Cloning into 'pytorch-insightface'...\n",
            "remote: Enumerating objects: 23, done.\u001b[K\n",
            "remote: Counting objects: 100% (23/23), done.\u001b[K\n",
            "remote: Compressing objects: 100% (17/17), done.\u001b[K\n",
            "remote: Total 23 (delta 4), reused 15 (delta 0), pack-reused 0\u001b[K\n",
            "Unpacking objects: 100% (23/23), done.\n"
          ],
          "name": "stdout"
        }
      ]
    },
    {
      "cell_type": "code",
      "metadata": {
        "colab": {
          "base_uri": "https://localhost:8080/"
        },
        "id": "r13G-wXMRuwO",
        "outputId": "b5f6f300-5685-4dd1-f274-d2ac2abb66ba"
      },
      "source": [
        "!git clone https://github.com/VainF/Torch-Pruning.git"
      ],
      "execution_count": 37,
      "outputs": [
        {
          "output_type": "stream",
          "text": [
            "Cloning into 'Torch-Pruning'...\n",
            "remote: Enumerating objects: 267, done.\u001b[K\n",
            "remote: Counting objects: 100% (267/267), done.\u001b[K\n",
            "remote: Compressing objects: 100% (214/214), done.\u001b[K\n",
            "remote: Total 267 (delta 142), reused 131 (delta 49), pack-reused 0\u001b[K\n",
            "Receiving objects: 100% (267/267), 304.60 KiB | 13.84 MiB/s, done.\n",
            "Resolving deltas: 100% (142/142), done.\n"
          ],
          "name": "stdout"
        }
      ]
    },
    {
      "cell_type": "code",
      "metadata": {
        "colab": {
          "base_uri": "https://localhost:8080/"
        },
        "id": "k_6YCJ8L40wP",
        "outputId": "3809f7e3-a88d-4b6e-be76-45ff65906532"
      },
      "source": [
        "pip install torch_pruning"
      ],
      "execution_count": 38,
      "outputs": [
        {
          "output_type": "stream",
          "text": [
            "Requirement already satisfied: torch_pruning in /usr/local/lib/python3.6/dist-packages (0.2.1)\n",
            "Requirement already satisfied: torch in /usr/local/lib/python3.6/dist-packages (from torch_pruning) (1.7.0+cu101)\n",
            "Requirement already satisfied: future in /usr/local/lib/python3.6/dist-packages (from torch->torch_pruning) (0.16.0)\n",
            "Requirement already satisfied: typing-extensions in /usr/local/lib/python3.6/dist-packages (from torch->torch_pruning) (3.7.4.3)\n",
            "Requirement already satisfied: numpy in /usr/local/lib/python3.6/dist-packages (from torch->torch_pruning) (1.18.5)\n",
            "Requirement already satisfied: dataclasses in /usr/local/lib/python3.6/dist-packages (from torch->torch_pruning) (0.8)\n"
          ],
          "name": "stdout"
        }
      ]
    },
    {
      "cell_type": "code",
      "metadata": {
        "colab": {
          "base_uri": "https://localhost:8080/"
        },
        "id": "9VqxPiDVSHsC",
        "outputId": "b89c8b3a-df2c-4592-d171-17f2755c1cbe"
      },
      "source": [
        "%cd /content/pytorch-insightface/insightface/"
      ],
      "execution_count": 39,
      "outputs": [
        {
          "output_type": "stream",
          "text": [
            "/content/pytorch-insightface/insightface\n"
          ],
          "name": "stdout"
        }
      ]
    },
    {
      "cell_type": "code",
      "metadata": {
        "colab": {
          "base_uri": "https://localhost:8080/"
        },
        "id": "3Z-4O032mvcP",
        "outputId": "1095f63b-85aa-4455-8390-adcfc7e64cfd"
      },
      "source": [
        "import torch_pruning as tp\r\n",
        "import numpy as np\r\n",
        "import torch\r\n",
        "import torch.nn.functional as F\r\n",
        "import torch.nn as nn \r\n",
        "import iresnet\r\n",
        "import insightface\r\n",
        "\r\n",
        "def prune_model(model):\r\n",
        "    model.cpu()\r\n",
        "    DG = tp.DependencyGraph().build_dependency( model, torch.randn(1, 3, 112, 112) )\r\n",
        "    def prune_conv(conv, pruned_prob):\r\n",
        "        weight = conv.weight.detach().cpu().numpy()\r\n",
        "        out_channels = weight.shape[0]\r\n",
        "        L1_norm = np.sum( np.abs(weight), axis=(1,2,3))\r\n",
        "        num_pruned = int(out_channels * pruned_prob)\r\n",
        "        prune_index = np.argsort(L1_norm)[:num_pruned].tolist() # remove filters with small L1-Norm\r\n",
        "        plan = DG.get_pruning_plan(conv, tp.prune_conv, prune_index)\r\n",
        "        plan.exec()\r\n",
        "    \r\n",
        "    block_prune_probs = [0.01, 0.02, 0.03, 0.04, 0.05, 0.06, 0.07, 0.08, 0.09, 0.1, 0.11, 0.12, 0.13, 0.14, 0.15, 0.16, 0.17, 0.18, 0.19, 0.2, 0.21, 0.22, 0.23, 0.24, 0.25, 0.26, 0.27, 0.28, 0.29, 0.3, 0.31, 0.32, 0.33, 0.34, 0.35, 0.36, 0.37, 0.38, 0.39, 0.40, 0.41, 0.42, 0.43, 0.44, 0.45, 0.46, 0.47, 0.48, 0.49]\r\n",
        "    blk_id = 0\r\n",
        "    for m in model.modules():\r\n",
        "        if isinstance( m, iresnet.IBasicBlock ):\r\n",
        "            #print(\"conv\")\r\n",
        "            prune_conv( m.conv1, block_prune_probs[blk_id] )\r\n",
        "            prune_conv( m.conv2, block_prune_probs[blk_id] )\r\n",
        "            blk_id+=1\r\n",
        "    return model\r\n",
        "    \r\n",
        "model = iresnet.iresnet100(pretrained=True)\r\n",
        "torch.save(model, \"before.pt\")\r\n",
        "\r\n",
        "dummy = torch.randn(1, 3, 112, 112)\r\n",
        "\r\n",
        "params = sum([np.prod(p.size()) for p in model.parameters()])\r\n",
        "print(\"Number of Parameters before: %.1fM\"%(params/1e6))\r\n",
        "model.eval()\r\n",
        "with torch.no_grad():\r\n",
        "  before = (model(dummy))\r\n",
        "\r\n",
        "model2 = prune_model(model)\r\n",
        "params = sum([np.prod(p.size()) for p in model2.parameters()])\r\n",
        "print(\"Number of Parameters after: %.1fM\"%(params/1e6))\r\n",
        "\r\n",
        "cos = nn.CosineSimilarity(dim=1)\r\n",
        "print(\"--------------\")\r\n",
        "print (\"Cosine Similarity: \")\r\n",
        "print(cos(before, model2(dummy)))\r\n",
        "torch.save(model2, \"after.pt\")\r\n"
      ],
      "execution_count": 56,
      "outputs": [
        {
          "output_type": "stream",
          "text": [
            "Number of Parameters before: 65.2M\n",
            "Number of Parameters after: 4.2M\n",
            "--------------\n",
            "Cosine Similarity: \n",
            "tensor([0.0870], grad_fn=<DivBackward0>)\n"
          ],
          "name": "stdout"
        }
      ]
    }
  ]
}